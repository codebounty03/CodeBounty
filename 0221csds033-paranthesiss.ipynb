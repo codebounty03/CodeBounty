{
 "cells": [
  {
   "cell_type": "code",
   "execution_count": 22,
   "id": "f99c1920-0921-4f4e-b296-2aaa2f1ec1d2",
   "metadata": {},
   "outputs": [
    {
     "name": "stdin",
     "output_type": "stream",
     "text": [
      "n  -1\n"
     ]
    },
    {
     "name": "stdout",
     "output_type": "stream",
     "text": [
      "\n"
     ]
    }
   ],
   "source": [
    "n = int(input(\"n \"))\n",
    "\n",
    "class Solution(object):\n",
    "    def generateParenthesis(self,n,currentString = '',close = 0):\n",
    "        if n == 1 and close == 0:\n",
    "              return [currentString + \"()\"]\n",
    "        elif n == 0 and close == 1:\n",
    "              return [currentString + \")\"]\n",
    "        elif n == 0 and close == 0:\n",
    "              return [currentString]  \n",
    "\n",
    "        allPossibleVariations = []  \n",
    "\n",
    "        if n = 1:\n",
    "            getSubVariations = self.generateParenthesis(n-1,currentString+\"(\",close+1)\n",
    "            if type(getSubVariations) != str:\n",
    "                  for item in getSubVariations:\n",
    "                       allPossibleVariations.append(item)\n",
    "            else:\n",
    "                 allPossibleVariations.append(getSubVariations)\n",
    "\n",
    "        if close >= 1:\n",
    "            getSubVariations = self.generateParenthesis(n,currentString+\")\",close-1)\n",
    "            if type(getSubVariations) != str:\n",
    "                for item in getSubVariations:\n",
    "                    allPossibleVariations.append(item)\n",
    "            else: allPossibleVariations.append(getSubVariations)\n",
    "        return allPossibleVariations\n",
    "solution = Solution()\n",
    "result = solution.generateParenthesis(n+1)\n",
    "\n",
    "for combination in result:\n",
    "    print(combination)"
   ]
  },
  {
   "cell_type": "code",
   "execution_count": null,
   "id": "1adada72-b660-4108-957a-57431f2937b6",
   "metadata": {},
   "outputs": [],
   "source": []
  }
 ],
 "metadata": {
  "kernelspec": {
   "display_name": "Python 3 (ipykernel)",
   "language": "python",
   "name": "python3"
  },
  "language_info": {
   "codemirror_mode": {
    "name": "ipython",
    "version": 3
   },
   "file_extension": ".py",
   "mimetype": "text/x-python",
   "name": "python",
   "nbconvert_exporter": "python",
   "pygments_lexer": "ipython3",
   "version": "3.12.0"
  }
 },
 "nbformat": 4,
 "nbformat_minor": 5
}
