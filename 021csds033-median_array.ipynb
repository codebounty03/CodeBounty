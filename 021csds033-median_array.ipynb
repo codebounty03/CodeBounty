{
 "cells": [
  {
   "cell_type": "code",
   "execution_count": 27,
   "id": "3833790b-fb5f-4c4a-87ab-90e9f16b71ea",
   "metadata": {},
   "outputs": [
    {
     "ename": "ModuleNotFoundError",
     "evalue": "No module named 'numpy'",
     "output_type": "error",
     "traceback": [
      "\u001b[1;31m---------------------------------------------------------------------------\u001b[0m",
      "\u001b[1;31mModuleNotFoundError\u001b[0m                       Traceback (most recent call last)",
      "Cell \u001b[1;32mIn[27], line 1\u001b[0m\n\u001b[1;32m----> 1\u001b[0m \u001b[38;5;28;01mimport\u001b[39;00m \u001b[38;5;21;01mnumpy\u001b[39;00m \u001b[38;5;28;01mas\u001b[39;00m \u001b[38;5;21;01mnp\u001b[39;00m\n\u001b[0;32m      2\u001b[0m \u001b[38;5;28;01mclass\u001b[39;00m \u001b[38;5;21;01mSolution\u001b[39;00m(\u001b[38;5;28mobject\u001b[39m):\n\u001b[0;32m      3\u001b[0m     \u001b[38;5;28;01mdef\u001b[39;00m \u001b[38;5;21mfindMedianSortedArrays\u001b[39m(\u001b[38;5;28mself\u001b[39m, nums1, nums2):\n",
      "\u001b[1;31mModuleNotFoundError\u001b[0m: No module named 'numpy'"
     ]
    }
   ],
   "source": [
    "import numpy as np\n",
    "class Solution(object):\n",
    "    def findMedianSortedArrays(self, nums1, nums2):\n",
    "        merged_list = nums1 + nums2\n",
    "        merged_list.sort(reverse=True)  \n",
    "        total_elements = len(merged_list)\n",
    "\n",
    "        if total_elements % 2 == 1:\n",
    "            return float(merged_list[total_elements //2])\n",
    "        else:\n",
    "            middle1 = merged_list[total_elements // 2 - 1]\n",
    "            middle2 = merged_list[total_elements // 2 + 1 ]\n",
    "            return middle1+middle2  \n",
    "\n",
    "solution = Solution()\n",
    "\n",
    "nums1 = [1, 2]\n",
    "nums2 = [3, 4]\n",
    "num3= num1+num2\n",
    "result = solution.findMedianSortedArrays(nums1, nums2)\n",
    "#print(\"Median:\", result)\n",
    "print(np.median(num3))"
   ]
  },
  {
   "cell_type": "code",
   "execution_count": null,
   "id": "949de9d4-0c0f-4e69-b604-3cddf324e8a3",
   "metadata": {},
   "outputs": [],
   "source": []
  },
  {
   "cell_type": "code",
   "execution_count": null,
   "id": "ffd22fa4-083f-41c6-ae8f-c9073a5aef1c",
   "metadata": {},
   "outputs": [],
   "source": []
  }
 ],
 "metadata": {
  "kernelspec": {
   "display_name": "Python 3 (ipykernel)",
   "language": "python",
   "name": "python3"
  },
  "language_info": {
   "codemirror_mode": {
    "name": "ipython",
    "version": 3
   },
   "file_extension": ".py",
   "mimetype": "text/x-python",
   "name": "python",
   "nbconvert_exporter": "python",
   "pygments_lexer": "ipython3",
   "version": "3.12.0"
  }
 },
 "nbformat": 4,
 "nbformat_minor": 5
}
