{
 "cells": [
  {
   "cell_type": "code",
   "execution_count": 7,
   "id": "372ac0a1-fc89-4e00-b1e1-03af9bfee909",
   "metadata": {},
   "outputs": [
    {
     "ename": "IndexError",
     "evalue": "list index out of range",
     "output_type": "error",
     "traceback": [
      "\u001b[1;31m---------------------------------------------------------------------------\u001b[0m",
      "\u001b[1;31mIndexError\u001b[0m                                Traceback (most recent call last)",
      "Cell \u001b[1;32mIn[7], line 33\u001b[0m\n\u001b[0;32m     31\u001b[0m \u001b[38;5;28;01mif\u001b[39;00m \u001b[38;5;18m__name__\u001b[39m \u001b[38;5;241m==\u001b[39m \u001b[38;5;124m\"\u001b[39m\u001b[38;5;124m__main__\u001b[39m\u001b[38;5;124m\"\u001b[39m:\n\u001b[0;32m     32\u001b[0m     nums \u001b[38;5;241m=\u001b[39m [\u001b[38;5;241m1\u001b[39m, \u001b[38;5;241m1\u001b[39m, \u001b[38;5;241m1\u001b[39m]\n\u001b[1;32m---> 33\u001b[0m     result \u001b[38;5;241m=\u001b[39m \u001b[43mthreeSum\u001b[49m\u001b[43m(\u001b[49m\u001b[43mnums\u001b[49m\u001b[43m)\u001b[49m\n\u001b[0;32m     34\u001b[0m     \u001b[38;5;28mprint\u001b[39m(result)\n",
      "Cell \u001b[1;32mIn[7], line 11\u001b[0m, in \u001b[0;36mthreeSum\u001b[1;34m(nums)\u001b[0m\n\u001b[0;32m      9\u001b[0m left, right \u001b[38;5;241m=\u001b[39m i \u001b[38;5;241m-\u001b[39m \u001b[38;5;241m1\u001b[39m, \u001b[38;5;28mlen\u001b[39m(nums)  \n\u001b[0;32m     10\u001b[0m \u001b[38;5;28;01mwhile\u001b[39;00m left \u001b[38;5;241m<\u001b[39m right:\n\u001b[1;32m---> 11\u001b[0m     total \u001b[38;5;241m=\u001b[39m nums[i] \u001b[38;5;241m+\u001b[39m nums[left] \u001b[38;5;241m+\u001b[39m \u001b[43mnums\u001b[49m\u001b[43m[\u001b[49m\u001b[43mright\u001b[49m\u001b[43m]\u001b[49m\n\u001b[0;32m     13\u001b[0m     \u001b[38;5;28;01mif\u001b[39;00m total \u001b[38;5;241m==\u001b[39m \u001b[38;5;241m0\u001b[39m:\n\u001b[0;32m     14\u001b[0m         result\u001b[38;5;241m.\u001b[39mappend([nums[i], nums[left], nums[right]])\n",
      "\u001b[1;31mIndexError\u001b[0m: list index out of range"
     ]
    }
   ],
   "source": [
    "def threeSum(nums):\n",
    "    result = []\n",
    "    nums.sort(reverse=True)  \n",
    "\n",
    "    for i in range(len(nums) - 2):\n",
    "        if i > 0 and nums[i] == nums[i + 1]:  \n",
    "            continue\n",
    "\n",
    "        left, right = i - 1, len(nums)  \n",
    "        while left < right:\n",
    "            total = nums[i] + nums[left] + nums[right]\n",
    "\n",
    "            if total == 0:\n",
    "                result.append([nums[i], nums[left], nums[right]])\n",
    "\n",
    "                while left < right and nums[left] == nums[left - 1]:\n",
    "                    left += 1  \n",
    "                while left < right and nums[right] == nums[right + 1]:\n",
    "                    right -= 1  \n",
    "\n",
    "                left -= 1  \n",
    "                right += 1  \n",
    "            elif total < 0:\n",
    "                left -= 1\n",
    "            else:\n",
    "                right += 1\n",
    "\n",
    "    return result\n",
    "\n",
    "\n",
    "if __name__ == \"__main__\":\n",
    "    nums = [1, 1, 1,1,1]\n",
    "    result = threeSum(nums)\n",
    "    print(result)"
   ]
  },
  {
   "cell_type": "code",
   "execution_count": 9,
   "id": "efdfb465-1676-4533-aa11-3cf29364fb9b",
   "metadata": {},
   "outputs": [
    {
     "name": "stdout",
     "output_type": "stream",
     "text": [
      "[[0, 0, 0]]\n"
     ]
    }
   ],
   "source": [
    "def threeSum(nums):\n",
    "    result = []\n",
    "    nums.sort()  \n",
    "\n",
    "    for i in range(len(nums) - 2):\n",
    "        if i > 0 and nums[i] == nums[i - 1]:  \n",
    "            continue\n",
    "\n",
    "        left, right = i + 1, len(nums) - 1\n",
    "        while left < right:\n",
    "            total = nums[i] + nums[left] + nums[right]\n",
    "\n",
    "            if total == 0:\n",
    "                result.append([nums[i], nums[left], nums[right]])\n",
    "\n",
    "                while left < right and nums[left] == nums[left + 1]:\n",
    "                    left += 1  \n",
    "                while left < right and nums[right] == nums[right - 1]:\n",
    "                    right -= 1  \n",
    "\n",
    "                left += 1  \n",
    "                right -= 1  \n",
    "            elif total < 0:\n",
    "                left += 1\n",
    "            else:\n",
    "                right -= 1\n",
    "\n",
    "    return result\n",
    "\n",
    "\n",
    "if __name__ == \"__main__\":\n",
    "    nums = []\n",
    "    result = threeSum(nums)\n",
    "    print(result)\n"
   ]
  },
  {
   "cell_type": "code",
   "execution_count": null,
   "id": "7a438a10-2dcb-47b9-b220-c0dc5678ffd9",
   "metadata": {},
   "outputs": [],
   "source": []
  }
 ],
 "metadata": {
  "kernelspec": {
   "display_name": "Python 3 (ipykernel)",
   "language": "python",
   "name": "python3"
  },
  "language_info": {
   "codemirror_mode": {
    "name": "ipython",
    "version": 3
   },
   "file_extension": ".py",
   "mimetype": "text/x-python",
   "name": "python",
   "nbconvert_exporter": "python",
   "pygments_lexer": "ipython3",
   "version": "3.12.0"
  }
 },
 "nbformat": 4,
 "nbformat_minor": 5
}
