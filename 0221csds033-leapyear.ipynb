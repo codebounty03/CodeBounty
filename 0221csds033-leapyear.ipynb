{
 "cells": [
  {
   "cell_type": "code",
   "execution_count": 11,
   "id": "3ecfca93-cfc1-41ff-a1e3-324802a7204d",
   "metadata": {},
   "outputs": [
    {
     "name": "stdin",
     "output_type": "stream",
     "text": [
      "Input your name:  gtg\n",
      "Input your birth year:  2023\n",
      "Input your birth month:  10\n",
      "Input your birth day:  3\n"
     ]
    },
    {
     "name": "stdout",
     "output_type": "stream",
     "text": [
      "gtg's age is 0 years, 1 months, or 31 days.\n"
     ]
    }
   ],
   "source": [
    "import time\n",
    "from calendar import isleap\n",
    "\n",
    "def calculate_age(name, birth_year, birth_month, birth_day):\n",
    "    current_time = time.localtime(time.time())\n",
    "    current_year = current_time.tm_year\n",
    "    current_month = current_time.tm_mon\n",
    "    current_day = current_time.tm_mday\n",
    "\n",
    "    leap_year = isleap(current_year)\n",
    "\n",
    "    if birth_year > current_year:\n",
    "        print(\"Invalid birth year. It's in the future.\")\n",
    "        return\n",
    "\n",
    "    \n",
    "\n",
    "    if birth_month < 1 or birth_month > 12:\n",
    "        print(\"Invalid birth month. It should be between 1 and 12.\")\n",
    "        return\n",
    "\n",
    "    if birth_day < 1 or birth_day > 31:\n",
    "        print(\"Invalid birth day. It should be between 1 and 31.\")\n",
    "        return\n",
    "\n",
    "\n",
    "    age_years = current_year - birth_year\n",
    "\n",
    "    age_months = current_month - birth_month\n",
    "    \n",
    "    age_days = current_day - birth_day\n",
    "\n",
    "    for year in range(birth_year, current_year):\n",
    "        if isleap(year):\n",
    "\n",
    "            age_days += 366\n",
    "        else:\n",
    "            age_days += 365\n",
    "\n",
    "    for month in range(birth_month, current_month):\n",
    "        age_days += month_days(month, leap_year)\n",
    "        age_days += current_day - birth_day\n",
    "\n",
    "    print(f\"{name}'s age is {age_years} years, {age_months} months, or {age_days} days.\")\n",
    "\n",
    "def month_days(month, leap_year):\n",
    "    if month in [1, 3, 5, 7, 8, 10, 12]:\n",
    "        return 31\n",
    "    elif month in [4, 6, 9, 11]:\n",
    "        return 30\n",
    "    elif month == 2:\n",
    "        return 29 if leap_year else 28\n",
    "\n",
    "if __name__ == \"__main__\":\n",
    "    name = input(\"Input your name: \")\n",
    "    birth_year = int(input(\"Input your birth year: \"))\n",
    "    birth_month = int(input(\"Input your birth month: \"))\n",
    "    birth_day = int(input(\"Input your birth day: \"))\n",
    "\n",
    "    calculate_age(name, birth_year, birth_month, birth_day)"
   ]
  },
  {
   "cell_type": "code",
   "execution_count": null,
   "id": "3a9d3de6-d618-40ee-871f-d593df0445a5",
   "metadata": {},
   "outputs": [],
   "source": []
  }
 ],
 "metadata": {
  "kernelspec": {
   "display_name": "Python 3 (ipykernel)",
   "language": "python",
   "name": "python3"
  },
  "language_info": {
   "codemirror_mode": {
    "name": "ipython",
    "version": 3
   },
   "file_extension": ".py",
   "mimetype": "text/x-python",
   "name": "python",
   "nbconvert_exporter": "python",
   "pygments_lexer": "ipython3",
   "version": "3.12.0"
  }
 },
 "nbformat": 4,
 "nbformat_minor": 5
}
